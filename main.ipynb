{
 "cells":[
  {
   "cell_type":"code",
   "source":[
    "pip install catboost"
   ],
   "execution_count":2,
   "outputs":[
    {
     "name":"stdout",
     "text":[
      "Requirement already satisfied: catboost in \/opt\/python\/envs\/default\/lib\/python3.8\/site-packages (1.0.5)\r\n",
      "Requirement already satisfied: numpy>=1.16.0 in \/opt\/python\/envs\/default\/lib\/python3.8\/site-packages (from catboost) (1.21.5)\r\n",
      "Requirement already satisfied: graphviz in \/opt\/python\/envs\/default\/lib\/python3.8\/site-packages (from catboost) (0.19.2)\r\n",
      "Requirement already satisfied: scipy in \/opt\/python\/envs\/default\/lib\/python3.8\/site-packages (from catboost) (1.7.3)\r\n",
      "Requirement already satisfied: matplotlib in \/opt\/python\/envs\/default\/lib\/python3.8\/site-packages (from catboost) (3.5.1)\r\n",
      "Requirement already satisfied: plotly in \/opt\/python\/envs\/default\/lib\/python3.8\/site-packages (from catboost) (5.5.0)\r\n",
      "Requirement already satisfied: pandas>=0.24.0 in \/opt\/python\/envs\/default\/lib\/python3.8\/site-packages (from catboost) (1.3.5)\r\n",
      "Requirement already satisfied: six in \/opt\/python\/envs\/default\/lib\/python3.8\/site-packages (from catboost) (1.16.0)\r\n",
      "Requirement already satisfied: pytz>=2017.3 in \/opt\/python\/envs\/default\/lib\/python3.8\/site-packages (from pandas>=0.24.0->catboost) (2022.1)\r\n",
      "Requirement already satisfied: python-dateutil>=2.7.3 in \/opt\/python\/envs\/default\/lib\/python3.8\/site-packages (from pandas>=0.24.0->catboost) (2.8.2)\r\n",
      "Requirement already satisfied: pyparsing>=2.2.1 in \/opt\/python\/envs\/default\/lib\/python3.8\/site-packages (from matplotlib->catboost) (3.0.7)\r\n",
      "Requirement already satisfied: fonttools>=4.22.0 in \/opt\/python\/envs\/default\/lib\/python3.8\/site-packages (from matplotlib->catboost) (4.31.2)\r\n",
      "Requirement already satisfied: cycler>=0.10 in \/opt\/python\/envs\/default\/lib\/python3.8\/site-packages (from matplotlib->catboost) (0.11.0)\r\n",
      "Requirement already satisfied: packaging>=20.0 in \/opt\/python\/envs\/default\/lib\/python3.8\/site-packages (from matplotlib->catboost) (21.3)\r\n",
      "Requirement already satisfied: pillow>=6.2.0 in \/opt\/python\/envs\/default\/lib\/python3.8\/site-packages (from matplotlib->catboost) (9.1.0)\r\n",
      "Requirement already satisfied: kiwisolver>=1.0.1 in \/opt\/python\/envs\/default\/lib\/python3.8\/site-packages (from matplotlib->catboost) (1.4.2)\r\n",
      "Requirement already satisfied: tenacity>=6.2.0 in \/opt\/python\/envs\/default\/lib\/python3.8\/site-packages (from plotly->catboost) (8.0.1)\r\n",
      "\u001b[33mWARNING: You are using pip version 21.3.1; however, version 22.0.4 is available.\r\n",
      "You should consider upgrading via the '\/opt\/python\/envs\/default\/bin\/python -m pip install --upgrade pip' command.\u001b[0m\r\n",
      "Note: you may need to restart the kernel to use updated packages.\n"
     ],
     "output_type":"stream"
    }
   ],
   "metadata":{
    "datalore":{
     "type":"CODE",
     "hide_input_from_viewers":false,
     "hide_output_from_viewers":false
    }
   }
  },
  {
   "cell_type":"code",
   "source":[
    "import pandas as pd\n",
    "import numpy as np\n",
    "import random\n",
    "\n",
    "import seaborn as sns\n",
    "import matplotlib.pyplot as plt\n",
    "\n",
    "import statsmodels.api as sm\n",
    "from catboost import CatBoostRegressor\n",
    "\n",
    "from sklearn.metrics import mean_squared_log_error"
   ],
   "execution_count":3,
   "outputs":[
    
   ],
   "metadata":{
    "datalore":{
     "type":"CODE",
     "hide_input_from_viewers":false,
     "hide_output_from_viewers":false
    }
   }
  },
  {
   "cell_type":"code",
   "source":[
    "# зафиксируем сид\n",
    "random.seed(42)"
   ],
   "execution_count":4,
   "outputs":[
    
   ],
   "metadata":{
    "datalore":{
     "type":"CODE",
     "hide_input_from_viewers":false,
     "hide_output_from_viewers":false
    }
   }
  },
  {
   "cell_type":"markdown",
   "source":[
    "## Загрузка данных"
   ],
   "attachments":{
    
   },
   "metadata":{
    "datalore":{
     "type":"MD",
     "hide_input_from_viewers":false,
     "hide_output_from_viewers":false
    }
   }
  },
  {
   "cell_type":"code",
   "source":[
    "# колонки для группировки\n",
    "AGG_COLS = [\"material_code\", \"company_code\", \"country\", \"region\", \"manager_code\"]"
   ],
   "execution_count":5,
   "outputs":[
    
   ],
   "metadata":{
    "datalore":{
     "type":"CODE",
     "hide_input_from_viewers":false,
     "hide_output_from_viewers":false
    }
   }
  },
  {
   "cell_type":"code",
   "source":[
    "# данные\n",
    "data = pd.read_csv('sc2021_train_deals.csv', parse_dates=[\"month\", \"date\"])"
   ],
   "execution_count":6,
   "outputs":[
    
   ],
   "metadata":{
    "datalore":{
     "type":"CODE",
     "hide_input_from_viewers":false,
     "hide_output_from_viewers":false
    }
   }
  },
  {
   "cell_type":"code",
   "source":[
    "data.info()"
   ],
   "execution_count":7,
   "outputs":[
    {
     "name":"stdout",
     "text":[
      "<class 'pandas.core.frame.DataFrame'>\n",
      "RangeIndex: 92306 entries, 0 to 92305\n",
      "Data columns (total 12 columns):\n",
      " #   Column              Non-Null Count  Dtype         \n",
      "---  ------              --------------  -----         \n",
      " 0   material_code       92306 non-null  int64         \n",
      " 1   company_code        92306 non-null  int64         \n",
      " 2   country             92306 non-null  object        \n",
      " 3   region              92306 non-null  object        \n",
      " 4   manager_code        92306 non-null  int64         \n",
      " 5   month               92306 non-null  datetime64[ns]\n",
      " 6   material_lvl1_name  92306 non-null  object        \n",
      " 7   material_lvl2_name  92306 non-null  object        \n",
      " 8   material_lvl3_name  92306 non-null  object        \n",
      " 9   contract_type       92306 non-null  object        \n",
      " 10  date                92306 non-null  datetime64[ns]\n",
      " 11  volume              92306 non-null  float64       \n",
      "dtypes: datetime64[ns](2), float64(1), int64(3), object(6)\n",
      "memory usage: 8.5+ MB\n"
     ],
     "output_type":"stream"
    }
   ],
   "metadata":{
    "datalore":{
     "type":"CODE",
     "hide_input_from_viewers":false,
     "hide_output_from_viewers":false
    }
   }
  },
  {
   "cell_type":"code",
   "source":[
    "print(f'В данных {data.shape[0]} строчек и {data.shape[1]} колонок.')"
   ],
   "execution_count":8,
   "outputs":[
    {
     "name":"stdout",
     "text":[
      "В данных 92306 строчек и 12 колонок.\n"
     ],
     "output_type":"stream"
    }
   ],
   "metadata":{
    "datalore":{
     "type":"CODE",
     "hide_input_from_viewers":false,
     "hide_output_from_viewers":false
    }
   }
  },
  {
   "cell_type":"code",
   "source":[
    "# временной диапозон выборки\n",
    "data['date'].min(), data['date'].max()"
   ],
   "execution_count":9,
   "outputs":[
    {
     "data":{
      "text\/plain":[
       "(Timestamp('2018-01-01 00:00:00'), Timestamp('2020-07-31 00:00:00'))"
      ]
     },
     "metadata":{
      
     },
     "output_type":"display_data"
    }
   ],
   "metadata":{
    "datalore":{
     "type":"CODE",
     "hide_input_from_viewers":false,
     "hide_output_from_viewers":false
    }
   }
  },
  {
   "cell_type":"markdown",
   "source":[
    "## Декомпозиция временного ряда:"
   ],
   "attachments":{
    
   },
   "metadata":{
    "datalore":{
     "type":"MD",
     "hide_input_from_viewers":false,
     "hide_output_from_viewers":false
    }
   }
  },
  {
   "cell_type":"code",
   "source":[
    "train_plot = data.set_index('date')\n",
    "y = train_plot['volume'].resample('MS').mean()\n",
    "\n",
    "result = sm.tsa.seasonal_decompose(y, model='additive')\n",
    "fig = plt.figure()  \n",
    "fig = result.plot()  \n",
    "fig.set_size_inches(10, 8)"
   ],
   "execution_count":10,
   "outputs":[
    {
     "data":{
      "text\/plain":[
       "<Figure size 432x288 with 0 Axes>"
      ],
      "image\/png":"[encoded data removed]"
     },
     "metadata":{
      "image\/png":{
       
      }
     },
     "output_type":"display_data"
    }
   ],
   "metadata":{
    "datalore":{
     "type":"CODE",
     "hide_input_from_viewers":false,
     "hide_output_from_viewers":false
    }
   }
  },
  {
   "cell_type":"markdown",
   "source":[
    "- ряд не является стационарным;\n",
    "- после продолжительного отсутствия какого-либо тренда, с мая 2019г. начался тренд на повышение продаж;\n",
    "- видим сезонность: пики продаж наблюдаются в августе и январе;\n",
    "- остатки располагаются рандомно вокруг 0"
   ],
   "attachments":{
    
   },
   "metadata":{
    "datalore":{
     "type":"MD",
     "hide_input_from_viewers":false,
     "hide_output_from_viewers":false
    }
   }
  },
  {
   "cell_type":"markdown",
   "source":[
    "## Временные ряды по каждой группе:"
   ],
   "attachments":{
    
   },
   "metadata":{
    "datalore":{
     "type":"MD",
     "hide_input_from_viewers":false,
     "hide_output_from_viewers":false
    }
   }
  },
  {
   "cell_type":"code",
   "source":[
    "group_ts = data.groupby(AGG_COLS + ['month'])['volume'].sum().unstack(fill_value=0)\n",
    "\n",
    "group_ts"
   ],
   "execution_count":11,
   "outputs":[
    {
     "data":{
      "text\/html":[
       "<div>\n",
       "<style scoped>\n",
       "    .dataframe tbody tr th:only-of-type {\n",
       "        vertical-align: middle;\n",
       "    }\n",
       "\n",
       "    .dataframe tbody tr th {\n",
       "        vertical-align: top;\n",
       "    }\n",
       "\n",
       "    .dataframe thead th {\n",
       "        text-align: right;\n",
       "    }\n",
       "<\/style>\n",
       "<table border=\"1\" class=\"dataframe\">\n",
       "  <thead>\n",
       "    <tr style=\"text-align: right;\">\n",
       "      <th><\/th>\n",
       "      <th><\/th>\n",
       "      <th><\/th>\n",
       "      <th><\/th>\n",
       "      <th>month<\/th>\n",
       "      <th>2018-01-01<\/th>\n",
       "      <th>2018-02-01<\/th>\n",
       "      <th>2018-03-01<\/th>\n",
       "      <th>2018-04-01<\/th>\n",
       "      <th>2018-05-01<\/th>\n",
       "      <th>2018-06-01<\/th>\n",
       "      <th>2018-07-01<\/th>\n",
       "      <th>2018-08-01<\/th>\n",
       "      <th>2018-09-01<\/th>\n",
       "      <th>2018-10-01<\/th>\n",
       "      <th>...<\/th>\n",
       "      <th>2019-10-01<\/th>\n",
       "      <th>2019-11-01<\/th>\n",
       "      <th>2019-12-01<\/th>\n",
       "      <th>2020-01-01<\/th>\n",
       "      <th>2020-02-01<\/th>\n",
       "      <th>2020-03-01<\/th>\n",
       "      <th>2020-04-01<\/th>\n",
       "      <th>2020-05-01<\/th>\n",
       "      <th>2020-06-01<\/th>\n",
       "      <th>2020-07-01<\/th>\n",
       "    <\/tr>\n",
       "    <tr>\n",
       "      <th>material_code<\/th>\n",
       "      <th>company_code<\/th>\n",
       "      <th>country<\/th>\n",
       "      <th>region<\/th>\n",
       "      <th>manager_code<\/th>\n",
       "      <th><\/th>\n",
       "      <th><\/th>\n",
       "      <th><\/th>\n",
       "      <th><\/th>\n",
       "      <th><\/th>\n",
       "      <th><\/th>\n",
       "      <th><\/th>\n",
       "      <th><\/th>\n",
       "      <th><\/th>\n",
       "      <th><\/th>\n",
       "      <th><\/th>\n",
       "      <th><\/th>\n",
       "      <th><\/th>\n",
       "      <th><\/th>\n",
       "      <th><\/th>\n",
       "      <th><\/th>\n",
       "      <th><\/th>\n",
       "      <th><\/th>\n",
       "      <th><\/th>\n",
       "      <th><\/th>\n",
       "      <th><\/th>\n",
       "    <\/tr>\n",
       "  <\/thead>\n",
       "  <tbody>\n",
       "    <tr>\n",
       "      <th>124<\/th>\n",
       "      <th>7278<\/th>\n",
       "      <th>Россия<\/th>\n",
       "      <th>Респ. Татарстан<\/th>\n",
       "      <th>17460<\/th>\n",
       "      <td>340.0<\/td>\n",
       "      <td>340.0<\/td>\n",
       "      <td>260.0<\/td>\n",
       "      <td>240.0<\/td>\n",
       "      <td>220.0<\/td>\n",
       "      <td>220.0<\/td>\n",
       "      <td>220.0<\/td>\n",
       "      <td>220.0<\/td>\n",
       "      <td>220.0<\/td>\n",
       "      <td>280.0<\/td>\n",
       "      <td>...<\/td>\n",
       "      <td>0.0<\/td>\n",
       "      <td>0.0<\/td>\n",
       "      <td>0.0<\/td>\n",
       "      <td>0.0<\/td>\n",
       "      <td>0.0<\/td>\n",
       "      <td>0.0<\/td>\n",
       "      <td>0.0<\/td>\n",
       "      <td>0.0<\/td>\n",
       "      <td>0.0<\/td>\n",
       "      <td>0.0<\/td>\n",
       "    <\/tr>\n",
       "    <tr>\n",
       "      <th rowspan=\"4\" valign=\"top\">133<\/th>\n",
       "      <th rowspan=\"4\" valign=\"top\">0<\/th>\n",
       "      <th rowspan=\"3\" valign=\"top\">Белоруссия<\/th>\n",
       "      <th>Минская обл.<\/th>\n",
       "      <th>10942<\/th>\n",
       "      <td>0.0<\/td>\n",
       "      <td>0.0<\/td>\n",
       "      <td>0.0<\/td>\n",
       "      <td>200.0<\/td>\n",
       "      <td>60.0<\/td>\n",
       "      <td>0.0<\/td>\n",
       "      <td>0.0<\/td>\n",
       "      <td>0.0<\/td>\n",
       "      <td>0.0<\/td>\n",
       "      <td>0.0<\/td>\n",
       "      <td>...<\/td>\n",
       "      <td>181.0<\/td>\n",
       "      <td>208.0<\/td>\n",
       "      <td>207.0<\/td>\n",
       "      <td>17.0<\/td>\n",
       "      <td>72.0<\/td>\n",
       "      <td>250.0<\/td>\n",
       "      <td>394.0<\/td>\n",
       "      <td>288.0<\/td>\n",
       "      <td>210.0<\/td>\n",
       "      <td>249.0<\/td>\n",
       "    <\/tr>\n",
       "    <tr>\n",
       "      <th>Могилевская обл.<\/th>\n",
       "      <th>10942<\/th>\n",
       "      <td>0.0<\/td>\n",
       "      <td>0.0<\/td>\n",
       "      <td>0.0<\/td>\n",
       "      <td>0.0<\/td>\n",
       "      <td>140.0<\/td>\n",
       "      <td>0.0<\/td>\n",
       "      <td>0.0<\/td>\n",
       "      <td>0.0<\/td>\n",
       "      <td>100.0<\/td>\n",
       "      <td>220.0<\/td>\n",
       "      <td>...<\/td>\n",
       "      <td>0.0<\/td>\n",
       "      <td>0.0<\/td>\n",
       "      <td>0.0<\/td>\n",
       "      <td>0.0<\/td>\n",
       "      <td>0.0<\/td>\n",
       "      <td>0.0<\/td>\n",
       "      <td>166.0<\/td>\n",
       "      <td>62.0<\/td>\n",
       "      <td>0.0<\/td>\n",
       "      <td>0.0<\/td>\n",
       "    <\/tr>\n",
       "    <tr>\n",
       "      <th>г. Минск<\/th>\n",
       "      <th>10942<\/th>\n",
       "      <td>0.0<\/td>\n",
       "      <td>20.0<\/td>\n",
       "      <td>0.0<\/td>\n",
       "      <td>0.0<\/td>\n",
       "      <td>40.0<\/td>\n",
       "      <td>160.0<\/td>\n",
       "      <td>180.0<\/td>\n",
       "      <td>99.0<\/td>\n",
       "      <td>60.0<\/td>\n",
       "      <td>400.0<\/td>\n",
       "      <td>...<\/td>\n",
       "      <td>82.0<\/td>\n",
       "      <td>42.0<\/td>\n",
       "      <td>0.0<\/td>\n",
       "      <td>0.0<\/td>\n",
       "      <td>0.0<\/td>\n",
       "      <td>0.0<\/td>\n",
       "      <td>21.0<\/td>\n",
       "      <td>0.0<\/td>\n",
       "      <td>0.0<\/td>\n",
       "      <td>6.0<\/td>\n",
       "    <\/tr>\n",
       "    <tr>\n",
       "      <th>Казахстан<\/th>\n",
       "      <th>г. Нур-Султан<\/th>\n",
       "      <th>13301<\/th>\n",
       "      <td>0.0<\/td>\n",
       "      <td>0.0<\/td>\n",
       "      <td>30.0<\/td>\n",
       "      <td>30.0<\/td>\n",
       "      <td>0.0<\/td>\n",
       "      <td>0.0<\/td>\n",
       "      <td>40.0<\/td>\n",
       "      <td>20.0<\/td>\n",
       "      <td>40.0<\/td>\n",
       "      <td>30.0<\/td>\n",
       "      <td>...<\/td>\n",
       "      <td>45.0<\/td>\n",
       "      <td>50.0<\/td>\n",
       "      <td>45.0<\/td>\n",
       "      <td>0.0<\/td>\n",
       "      <td>50.0<\/td>\n",
       "      <td>40.0<\/td>\n",
       "      <td>0.0<\/td>\n",
       "      <td>0.0<\/td>\n",
       "      <td>50.0<\/td>\n",
       "      <td>0.0<\/td>\n",
       "    <\/tr>\n",
       "    <tr>\n",
       "      <th>...<\/th>\n",
       "      <th>...<\/th>\n",
       "      <th>...<\/th>\n",
       "      <th>...<\/th>\n",
       "      <th>...<\/th>\n",
       "      <td>...<\/td>\n",
       "      <td>...<\/td>\n",
       "      <td>...<\/td>\n",
       "      <td>...<\/td>\n",
       "      <td>...<\/td>\n",
       "      <td>...<\/td>\n",
       "      <td>...<\/td>\n",
       "      <td>...<\/td>\n",
       "      <td>...<\/td>\n",
       "      <td>...<\/td>\n",
       "      <td>...<\/td>\n",
       "      <td>...<\/td>\n",
       "      <td>...<\/td>\n",
       "      <td>...<\/td>\n",
       "      <td>...<\/td>\n",
       "      <td>...<\/td>\n",
       "      <td>...<\/td>\n",
       "      <td>...<\/td>\n",
       "      <td>...<\/td>\n",
       "      <td>...<\/td>\n",
       "      <td>...<\/td>\n",
       "    <\/tr>\n",
       "    <tr>\n",
       "      <th>986<\/th>\n",
       "      <th>9943<\/th>\n",
       "      <th>Россия<\/th>\n",
       "      <th>Смоленская обл.<\/th>\n",
       "      <th>17460<\/th>\n",
       "      <td>0.0<\/td>\n",
       "      <td>0.0<\/td>\n",
       "      <td>0.0<\/td>\n",
       "      <td>0.0<\/td>\n",
       "      <td>0.0<\/td>\n",
       "      <td>0.0<\/td>\n",
       "      <td>0.0<\/td>\n",
       "      <td>0.0<\/td>\n",
       "      <td>0.0<\/td>\n",
       "      <td>0.0<\/td>\n",
       "      <td>...<\/td>\n",
       "      <td>0.0<\/td>\n",
       "      <td>0.0<\/td>\n",
       "      <td>0.0<\/td>\n",
       "      <td>0.0<\/td>\n",
       "      <td>21.0<\/td>\n",
       "      <td>63.0<\/td>\n",
       "      <td>125.0<\/td>\n",
       "      <td>84.0<\/td>\n",
       "      <td>84.0<\/td>\n",
       "      <td>83.0<\/td>\n",
       "    <\/tr>\n",
       "    <tr>\n",
       "      <th rowspan=\"4\" valign=\"top\">998<\/th>\n",
       "      <th>0<\/th>\n",
       "      <th>Россия<\/th>\n",
       "      <th>Ленинградская обл.<\/th>\n",
       "      <th>18079<\/th>\n",
       "      <td>0.0<\/td>\n",
       "      <td>0.0<\/td>\n",
       "      <td>0.0<\/td>\n",
       "      <td>0.0<\/td>\n",
       "      <td>0.0<\/td>\n",
       "      <td>0.0<\/td>\n",
       "      <td>0.0<\/td>\n",
       "      <td>4.0<\/td>\n",
       "      <td>5.0<\/td>\n",
       "      <td>5.0<\/td>\n",
       "      <td>...<\/td>\n",
       "      <td>10.0<\/td>\n",
       "      <td>0.0<\/td>\n",
       "      <td>6.0<\/td>\n",
       "      <td>5.0<\/td>\n",
       "      <td>5.0<\/td>\n",
       "      <td>5.0<\/td>\n",
       "      <td>0.0<\/td>\n",
       "      <td>3.0<\/td>\n",
       "      <td>3.0<\/td>\n",
       "      <td>9.0<\/td>\n",
       "    <\/tr>\n",
       "    <tr>\n",
       "      <th>3380<\/th>\n",
       "      <th>Россия<\/th>\n",
       "      <th>Ленинградская обл.<\/th>\n",
       "      <th>14956<\/th>\n",
       "      <td>0.0<\/td>\n",
       "      <td>0.0<\/td>\n",
       "      <td>0.0<\/td>\n",
       "      <td>0.0<\/td>\n",
       "      <td>0.0<\/td>\n",
       "      <td>0.0<\/td>\n",
       "      <td>0.0<\/td>\n",
       "      <td>0.0<\/td>\n",
       "      <td>0.0<\/td>\n",
       "      <td>0.0<\/td>\n",
       "      <td>...<\/td>\n",
       "      <td>115.0<\/td>\n",
       "      <td>102.0<\/td>\n",
       "      <td>29.0<\/td>\n",
       "      <td>73.0<\/td>\n",
       "      <td>74.0<\/td>\n",
       "      <td>122.0<\/td>\n",
       "      <td>100.0<\/td>\n",
       "      <td>15.0<\/td>\n",
       "      <td>30.0<\/td>\n",
       "      <td>50.0<\/td>\n",
       "    <\/tr>\n",
       "    <tr>\n",
       "      <th>5410<\/th>\n",
       "      <th>Россия<\/th>\n",
       "      <th>г. Санкт-Петербург<\/th>\n",
       "      <th>14956<\/th>\n",
       "      <td>60.0<\/td>\n",
       "      <td>60.0<\/td>\n",
       "      <td>100.0<\/td>\n",
       "      <td>60.0<\/td>\n",
       "      <td>60.0<\/td>\n",
       "      <td>80.0<\/td>\n",
       "      <td>80.0<\/td>\n",
       "      <td>100.0<\/td>\n",
       "      <td>80.0<\/td>\n",
       "      <td>80.0<\/td>\n",
       "      <td>...<\/td>\n",
       "      <td>120.0<\/td>\n",
       "      <td>140.0<\/td>\n",
       "      <td>100.0<\/td>\n",
       "      <td>100.0<\/td>\n",
       "      <td>180.0<\/td>\n",
       "      <td>180.0<\/td>\n",
       "      <td>100.0<\/td>\n",
       "      <td>140.0<\/td>\n",
       "      <td>40.0<\/td>\n",
       "      <td>0.0<\/td>\n",
       "    <\/tr>\n",
       "    <tr>\n",
       "      <th>6346<\/th>\n",
       "      <th>Россия<\/th>\n",
       "      <th>Респ. Башкортостан<\/th>\n",
       "      <th>10737<\/th>\n",
       "      <td>0.0<\/td>\n",
       "      <td>0.0<\/td>\n",
       "      <td>0.0<\/td>\n",
       "      <td>0.0<\/td>\n",
       "      <td>0.0<\/td>\n",
       "      <td>0.0<\/td>\n",
       "      <td>0.0<\/td>\n",
       "      <td>0.0<\/td>\n",
       "      <td>0.0<\/td>\n",
       "      <td>0.0<\/td>\n",
       "      <td>...<\/td>\n",
       "      <td>40.0<\/td>\n",
       "      <td>40.0<\/td>\n",
       "      <td>40.0<\/td>\n",
       "      <td>40.0<\/td>\n",
       "      <td>0.0<\/td>\n",
       "      <td>20.0<\/td>\n",
       "      <td>40.0<\/td>\n",
       "      <td>20.0<\/td>\n",
       "      <td>21.0<\/td>\n",
       "      <td>21.0<\/td>\n",
       "    <\/tr>\n",
       "  <\/tbody>\n",
       "<\/table>\n",
       "<p>941 rows × 31 columns<\/p>\n",
       "<\/div>"
      ]
     },
     "metadata":{
      
     },
     "output_type":"display_data"
    }
   ],
   "metadata":{
    "datalore":{
     "type":"CODE",
     "hide_input_from_viewers":false,
     "hide_output_from_viewers":false
    }
   }
  },
  {
   "cell_type":"markdown",
   "source":[
    "Подготовим датасет для генерации новых признаков:"
   ],
   "attachments":{
    
   },
   "metadata":{
    "datalore":{
     "type":"MD",
     "hide_input_from_viewers":false,
     "hide_output_from_viewers":false
    }
   }
  },
  {
   "cell_type":"code",
   "source":[
    "df = pd.DataFrame(group_ts.stack()).reset_index()\n",
    "\n",
    "df = df.rename(columns={0: 'volume'})"
   ],
   "execution_count":12,
   "outputs":[
    
   ],
   "metadata":{
    "datalore":{
     "type":"CODE",
     "hide_input_from_viewers":false,
     "hide_output_from_viewers":false
    }
   }
  },
  {
   "cell_type":"markdown",
   "source":[
    "Прологорифмируем целевую переменную:"
   ],
   "attachments":{
    
   },
   "metadata":{
    "datalore":{
     "type":"MD",
     "hide_input_from_viewers":false,
     "hide_output_from_viewers":false
    }
   }
  },
  {
   "cell_type":"code",
   "source":[
    "df['volume'] = np.log1p(df['volume'])"
   ],
   "execution_count":13,
   "outputs":[
    
   ],
   "metadata":{
    "datalore":{
     "type":"CODE",
     "hide_input_from_viewers":false,
     "hide_output_from_viewers":false
    }
   }
  },
  {
   "cell_type":"code",
   "source":[
    "df.head()"
   ],
   "execution_count":14,
   "outputs":[
    {
     "data":{
      "text\/html":[
       "<div>\n",
       "<style scoped>\n",
       "    .dataframe tbody tr th:only-of-type {\n",
       "        vertical-align: middle;\n",
       "    }\n",
       "\n",
       "    .dataframe tbody tr th {\n",
       "        vertical-align: top;\n",
       "    }\n",
       "\n",
       "    .dataframe thead th {\n",
       "        text-align: right;\n",
       "    }\n",
       "<\/style>\n",
       "<table border=\"1\" class=\"dataframe\">\n",
       "  <thead>\n",
       "    <tr style=\"text-align: right;\">\n",
       "      <th><\/th>\n",
       "      <th>material_code<\/th>\n",
       "      <th>company_code<\/th>\n",
       "      <th>country<\/th>\n",
       "      <th>region<\/th>\n",
       "      <th>manager_code<\/th>\n",
       "      <th>month<\/th>\n",
       "      <th>volume<\/th>\n",
       "    <\/tr>\n",
       "  <\/thead>\n",
       "  <tbody>\n",
       "    <tr>\n",
       "      <th>0<\/th>\n",
       "      <td>124<\/td>\n",
       "      <td>7278<\/td>\n",
       "      <td>Россия<\/td>\n",
       "      <td>Респ. Татарстан<\/td>\n",
       "      <td>17460<\/td>\n",
       "      <td>2018-01-01<\/td>\n",
       "      <td>5.831882<\/td>\n",
       "    <\/tr>\n",
       "    <tr>\n",
       "      <th>1<\/th>\n",
       "      <td>124<\/td>\n",
       "      <td>7278<\/td>\n",
       "      <td>Россия<\/td>\n",
       "      <td>Респ. Татарстан<\/td>\n",
       "      <td>17460<\/td>\n",
       "      <td>2018-02-01<\/td>\n",
       "      <td>5.831882<\/td>\n",
       "    <\/tr>\n",
       "    <tr>\n",
       "      <th>2<\/th>\n",
       "      <td>124<\/td>\n",
       "      <td>7278<\/td>\n",
       "      <td>Россия<\/td>\n",
       "      <td>Респ. Татарстан<\/td>\n",
       "      <td>17460<\/td>\n",
       "      <td>2018-03-01<\/td>\n",
       "      <td>5.564520<\/td>\n",
       "    <\/tr>\n",
       "    <tr>\n",
       "      <th>3<\/th>\n",
       "      <td>124<\/td>\n",
       "      <td>7278<\/td>\n",
       "      <td>Россия<\/td>\n",
       "      <td>Респ. Татарстан<\/td>\n",
       "      <td>17460<\/td>\n",
       "      <td>2018-04-01<\/td>\n",
       "      <td>5.484797<\/td>\n",
       "    <\/tr>\n",
       "    <tr>\n",
       "      <th>4<\/th>\n",
       "      <td>124<\/td>\n",
       "      <td>7278<\/td>\n",
       "      <td>Россия<\/td>\n",
       "      <td>Респ. Татарстан<\/td>\n",
       "      <td>17460<\/td>\n",
       "      <td>2018-05-01<\/td>\n",
       "      <td>5.398163<\/td>\n",
       "    <\/tr>\n",
       "  <\/tbody>\n",
       "<\/table>\n",
       "<\/div>"
      ]
     },
     "metadata":{
      
     },
     "output_type":"display_data"
    }
   ],
   "metadata":{
    "datalore":{
     "type":"CODE",
     "hide_input_from_viewers":false,
     "hide_output_from_viewers":false
    }
   }
  },
  {
   "cell_type":"markdown",
   "source":[
    "## Feature Engineering"
   ],
   "attachments":{
    
   },
   "metadata":{
    "datalore":{
     "type":"MD",
     "hide_input_from_viewers":false,
     "hide_output_from_viewers":false
    }
   }
  },
  {
   "cell_type":"markdown",
   "source":[
    "Сгенерируем новые признаки:\n",
    "- лаги на 3\/6\/12\/18 месяцев;\n",
    "- скользящие среднее\/минимум\/максиму в периоде 3\/6\/12\/18 месяцев.\n",
    "\n",
    "Во избежание переобучения, будем добавлять к каждому значению шум."
   ],
   "attachments":{
    
   },
   "metadata":{
    "datalore":{
     "type":"MD",
     "hide_input_from_viewers":false,
     "hide_output_from_viewers":false
    }
   }
  },
  {
   "cell_type":"code",
   "source":[
    "class FeatureEngineering:\n",
    "  \"\"\"\n",
    "  Создает новые признаки:\n",
    "  1. Lag признаки;\n",
    "  2. Скользящие средние;\n",
    "  \"\"\"\n",
    "\n",
    "  def __init__(self, df):\n",
    "    self.df = df\n",
    "\n",
    "  # генерация случайного шума случайный шум\n",
    "  def random_noise(self):\n",
    "      return np.abs(np.random.normal(scale=0.1, size=(len(self.df),))) \n",
    "\n",
    "  # lag признаки\n",
    "  def lag_features(self):\n",
    "    lags = [3, 6, 9, 12, 18] \n",
    "    for lag in lags:\n",
    "      self.df['sales_lag_' + str(lag)] = self.df.groupby(AGG_COLS)['volume'].transform(\n",
    "          lambda x: x.shift(lag)) + self.random_noise() # Adding random noise to each value.\n",
    "      \n",
    "    return self.df\n",
    "\n",
    "  # скользящие аггрегированные признаки\n",
    "  def roll_agg_features(self):\n",
    "    windows = [3, 6, 9, 12, 18] \n",
    "    for window in windows:\n",
    "        self.df['sales_roll_mean_' + str(window)] = self.df.groupby(AGG_COLS)['volume']. \\\n",
    "                                                          transform(\n",
    "            lambda x: x.shift(1).rolling(window=window,\n",
    "                                         min_periods=3,\n",
    "                                         win_type=\"triang\").mean()) + self.random_noise()\n",
    "        \n",
    "        self.df['sales_roll_max_' + str(window)] = self.df.groupby(AGG_COLS)['volume']. \\\n",
    "                                                          transform(\n",
    "            lambda x: x.shift(1).rolling(window=window,\n",
    "                                         min_periods=3).max()) + self.random_noise()\n",
    "        \n",
    "        self.df['sales_roll_min_' + str(window)] = self.df.groupby(AGG_COLS)['volume']. \\\n",
    "                                                          transform(\n",
    "            lambda x: x.shift(1).rolling(window=window,\n",
    "                                         min_periods=3).min()) + self.random_noise()\n",
    "\n",
    "    return self.df\n",
    "\n",
    "\n",
    "  # применение обоих методов\n",
    "  def transform(self):\n",
    "    self.df = self.lag_features()\n",
    "    self.df = self.roll_agg_features()\n",
    "    \n",
    "    return self.df"
   ],
   "execution_count":15,
   "outputs":[
    
   ],
   "metadata":{
    "datalore":{
     "type":"CODE",
     "hide_input_from_viewers":false,
     "hide_output_from_viewers":false
    }
   }
  },
  {
   "cell_type":"code",
   "source":[
    "# применим класс к датасету\n",
    "fe_data = FeatureEngineering(df).transform()"
   ],
   "execution_count":16,
   "outputs":[
    
   ],
   "metadata":{
    "datalore":{
     "type":"CODE",
     "hide_input_from_viewers":false,
     "hide_output_from_viewers":false
    }
   }
  },
  {
   "cell_type":"code",
   "source":[
    "fe_data"
   ],
   "execution_count":17,
   "outputs":[
    {
     "data":{
      "text\/html":[
       "<div>\n",
       "<style scoped>\n",
       "    .dataframe tbody tr th:only-of-type {\n",
       "        vertical-align: middle;\n",
       "    }\n",
       "\n",
       "    .dataframe tbody tr th {\n",
       "        vertical-align: top;\n",
       "    }\n",
       "\n",
       "    .dataframe thead th {\n",
       "        text-align: right;\n",
       "    }\n",
       "<\/style>\n",
       "<table border=\"1\" class=\"dataframe\">\n",
       "  <thead>\n",
       "    <tr style=\"text-align: right;\">\n",
       "      <th><\/th>\n",
       "      <th>material_code<\/th>\n",
       "      <th>company_code<\/th>\n",
       "      <th>country<\/th>\n",
       "      <th>region<\/th>\n",
       "      <th>manager_code<\/th>\n",
       "      <th>month<\/th>\n",
       "      <th>volume<\/th>\n",
       "      <th>sales_lag_3<\/th>\n",
       "      <th>sales_lag_6<\/th>\n",
       "      <th>sales_lag_9<\/th>\n",
       "      <th>...<\/th>\n",
       "      <th>sales_roll_min_6<\/th>\n",
       "      <th>sales_roll_mean_9<\/th>\n",
       "      <th>sales_roll_max_9<\/th>\n",
       "      <th>sales_roll_min_9<\/th>\n",
       "      <th>sales_roll_mean_12<\/th>\n",
       "      <th>sales_roll_max_12<\/th>\n",
       "      <th>sales_roll_min_12<\/th>\n",
       "      <th>sales_roll_mean_18<\/th>\n",
       "      <th>sales_roll_max_18<\/th>\n",
       "      <th>sales_roll_min_18<\/th>\n",
       "    <\/tr>\n",
       "  <\/thead>\n",
       "  <tbody>\n",
       "    <tr>\n",
       "      <th>0<\/th>\n",
       "      <td>124<\/td>\n",
       "      <td>7278<\/td>\n",
       "      <td>Россия<\/td>\n",
       "      <td>Респ. Татарстан<\/td>\n",
       "      <td>17460<\/td>\n",
       "      <td>2018-01-01<\/td>\n",
       "      <td>5.831882<\/td>\n",
       "      <td>NaN<\/td>\n",
       "      <td>NaN<\/td>\n",
       "      <td>NaN<\/td>\n",
       "      <td>...<\/td>\n",
       "      <td>NaN<\/td>\n",
       "      <td>NaN<\/td>\n",
       "      <td>NaN<\/td>\n",
       "      <td>NaN<\/td>\n",
       "      <td>NaN<\/td>\n",
       "      <td>NaN<\/td>\n",
       "      <td>NaN<\/td>\n",
       "      <td>NaN<\/td>\n",
       "      <td>NaN<\/td>\n",
       "      <td>NaN<\/td>\n",
       "    <\/tr>\n",
       "    <tr>\n",
       "      <th>1<\/th>\n",
       "      <td>124<\/td>\n",
       "      <td>7278<\/td>\n",
       "      <td>Россия<\/td>\n",
       "      <td>Респ. Татарстан<\/td>\n",
       "      <td>17460<\/td>\n",
       "      <td>2018-02-01<\/td>\n",
       "      <td>5.831882<\/td>\n",
       "      <td>NaN<\/td>\n",
       "      <td>NaN<\/td>\n",
       "      <td>NaN<\/td>\n",
       "      <td>...<\/td>\n",
       "      <td>NaN<\/td>\n",
       "      <td>NaN<\/td>\n",
       "      <td>NaN<\/td>\n",
       "      <td>NaN<\/td>\n",
       "      <td>NaN<\/td>\n",
       "      <td>NaN<\/td>\n",
       "      <td>NaN<\/td>\n",
       "      <td>NaN<\/td>\n",
       "      <td>NaN<\/td>\n",
       "      <td>NaN<\/td>\n",
       "    <\/tr>\n",
       "    <tr>\n",
       "      <th>2<\/th>\n",
       "      <td>124<\/td>\n",
       "      <td>7278<\/td>\n",
       "      <td>Россия<\/td>\n",
       "      <td>Респ. Татарстан<\/td>\n",
       "      <td>17460<\/td>\n",
       "      <td>2018-03-01<\/td>\n",
       "      <td>5.564520<\/td>\n",
       "      <td>NaN<\/td>\n",
       "      <td>NaN<\/td>\n",
       "      <td>NaN<\/td>\n",
       "      <td>...<\/td>\n",
       "      <td>NaN<\/td>\n",
       "      <td>NaN<\/td>\n",
       "      <td>NaN<\/td>\n",
       "      <td>NaN<\/td>\n",
       "      <td>NaN<\/td>\n",
       "      <td>NaN<\/td>\n",
       "      <td>NaN<\/td>\n",
       "      <td>NaN<\/td>\n",
       "      <td>NaN<\/td>\n",
       "      <td>NaN<\/td>\n",
       "    <\/tr>\n",
       "    <tr>\n",
       "      <th>3<\/th>\n",
       "      <td>124<\/td>\n",
       "      <td>7278<\/td>\n",
       "      <td>Россия<\/td>\n",
       "      <td>Респ. Татарстан<\/td>\n",
       "      <td>17460<\/td>\n",
       "      <td>2018-04-01<\/td>\n",
       "      <td>5.484797<\/td>\n",
       "      <td>5.842738<\/td>\n",
       "      <td>NaN<\/td>\n",
       "      <td>NaN<\/td>\n",
       "      <td>...<\/td>\n",
       "      <td>5.582638<\/td>\n",
       "      <td>5.904035<\/td>\n",
       "      <td>5.860567<\/td>\n",
       "      <td>5.585902<\/td>\n",
       "      <td>6.038924<\/td>\n",
       "      <td>5.873085<\/td>\n",
       "      <td>5.644879<\/td>\n",
       "      <td>5.815195<\/td>\n",
       "      <td>5.918930<\/td>\n",
       "      <td>5.723030<\/td>\n",
       "    <\/tr>\n",
       "    <tr>\n",
       "      <th>4<\/th>\n",
       "      <td>124<\/td>\n",
       "      <td>7278<\/td>\n",
       "      <td>Россия<\/td>\n",
       "      <td>Респ. Татарстан<\/td>\n",
       "      <td>17460<\/td>\n",
       "      <td>2018-05-01<\/td>\n",
       "      <td>5.398163<\/td>\n",
       "      <td>5.886677<\/td>\n",
       "      <td>NaN<\/td>\n",
       "      <td>NaN<\/td>\n",
       "      <td>...<\/td>\n",
       "      <td>5.506053<\/td>\n",
       "      <td>5.758175<\/td>\n",
       "      <td>5.961041<\/td>\n",
       "      <td>5.631592<\/td>\n",
       "      <td>5.956988<\/td>\n",
       "      <td>5.845075<\/td>\n",
       "      <td>5.484814<\/td>\n",
       "      <td>5.792143<\/td>\n",
       "      <td>5.906217<\/td>\n",
       "      <td>5.626481<\/td>\n",
       "    <\/tr>\n",
       "    <tr>\n",
       "      <th>...<\/th>\n",
       "      <td>...<\/td>\n",
       "      <td>...<\/td>\n",
       "      <td>...<\/td>\n",
       "      <td>...<\/td>\n",
       "      <td>...<\/td>\n",
       "      <td>...<\/td>\n",
       "      <td>...<\/td>\n",
       "      <td>...<\/td>\n",
       "      <td>...<\/td>\n",
       "      <td>...<\/td>\n",
       "      <td>...<\/td>\n",
       "      <td>...<\/td>\n",
       "      <td>...<\/td>\n",
       "      <td>...<\/td>\n",
       "      <td>...<\/td>\n",
       "      <td>...<\/td>\n",
       "      <td>...<\/td>\n",
       "      <td>...<\/td>\n",
       "      <td>...<\/td>\n",
       "      <td>...<\/td>\n",
       "      <td>...<\/td>\n",
       "    <\/tr>\n",
       "    <tr>\n",
       "      <th>29166<\/th>\n",
       "      <td>998<\/td>\n",
       "      <td>6346<\/td>\n",
       "      <td>Россия<\/td>\n",
       "      <td>Респ. Башкортостан<\/td>\n",
       "      <td>10737<\/td>\n",
       "      <td>2020-03-01<\/td>\n",
       "      <td>3.044522<\/td>\n",
       "      <td>3.750083<\/td>\n",
       "      <td>3.109056<\/td>\n",
       "      <td>0.047440<\/td>\n",
       "      <td>...<\/td>\n",
       "      <td>0.084411<\/td>\n",
       "      <td>2.905789<\/td>\n",
       "      <td>3.740926<\/td>\n",
       "      <td>0.021453<\/td>\n",
       "      <td>2.344224<\/td>\n",
       "      <td>3.883095<\/td>\n",
       "      <td>0.191631<\/td>\n",
       "      <td>1.648346<\/td>\n",
       "      <td>3.745667<\/td>\n",
       "      <td>0.104524<\/td>\n",
       "    <\/tr>\n",
       "    <tr>\n",
       "      <th>29167<\/th>\n",
       "      <td>998<\/td>\n",
       "      <td>6346<\/td>\n",
       "      <td>Россия<\/td>\n",
       "      <td>Респ. Башкортостан<\/td>\n",
       "      <td>10737<\/td>\n",
       "      <td>2020-04-01<\/td>\n",
       "      <td>3.713572<\/td>\n",
       "      <td>3.847671<\/td>\n",
       "      <td>3.806549<\/td>\n",
       "      <td>3.151874<\/td>\n",
       "      <td>...<\/td>\n",
       "      <td>0.043627<\/td>\n",
       "      <td>3.004995<\/td>\n",
       "      <td>3.858245<\/td>\n",
       "      <td>0.048695<\/td>\n",
       "      <td>2.698546<\/td>\n",
       "      <td>3.740059<\/td>\n",
       "      <td>0.041098<\/td>\n",
       "      <td>1.869450<\/td>\n",
       "      <td>3.724829<\/td>\n",
       "      <td>0.068682<\/td>\n",
       "    <\/tr>\n",
       "    <tr>\n",
       "      <th>29168<\/th>\n",
       "      <td>998<\/td>\n",
       "      <td>6346<\/td>\n",
       "      <td>Россия<\/td>\n",
       "      <td>Респ. Башкортостан<\/td>\n",
       "      <td>10737<\/td>\n",
       "      <td>2020-05-01<\/td>\n",
       "      <td>3.044522<\/td>\n",
       "      <td>0.128738<\/td>\n",
       "      <td>3.746386<\/td>\n",
       "      <td>0.198929<\/td>\n",
       "      <td>...<\/td>\n",
       "      <td>0.076093<\/td>\n",
       "      <td>3.088814<\/td>\n",
       "      <td>3.838194<\/td>\n",
       "      <td>0.101439<\/td>\n",
       "      <td>2.785727<\/td>\n",
       "      <td>3.759153<\/td>\n",
       "      <td>0.147468<\/td>\n",
       "      <td>2.032760<\/td>\n",
       "      <td>3.798386<\/td>\n",
       "      <td>0.010913<\/td>\n",
       "    <\/tr>\n",
       "    <tr>\n",
       "      <th>29169<\/th>\n",
       "      <td>998<\/td>\n",
       "      <td>6346<\/td>\n",
       "      <td>Россия<\/td>\n",
       "      <td>Респ. Башкортостан<\/td>\n",
       "      <td>10737<\/td>\n",
       "      <td>2020-06-01<\/td>\n",
       "      <td>3.091042<\/td>\n",
       "      <td>3.114153<\/td>\n",
       "      <td>3.775598<\/td>\n",
       "      <td>3.126965<\/td>\n",
       "      <td>...<\/td>\n",
       "      <td>0.060520<\/td>\n",
       "      <td>3.002715<\/td>\n",
       "      <td>3.736567<\/td>\n",
       "      <td>0.054995<\/td>\n",
       "      <td>2.952839<\/td>\n",
       "      <td>3.722981<\/td>\n",
       "      <td>0.016046<\/td>\n",
       "      <td>2.222699<\/td>\n",
       "      <td>3.820402<\/td>\n",
       "      <td>0.020440<\/td>\n",
       "    <\/tr>\n",
       "    <tr>\n",
       "      <th>29170<\/th>\n",
       "      <td>998<\/td>\n",
       "      <td>6346<\/td>\n",
       "      <td>Россия<\/td>\n",
       "      <td>Респ. Башкортостан<\/td>\n",
       "      <td>10737<\/td>\n",
       "      <td>2020-07-01<\/td>\n",
       "      <td>3.091042<\/td>\n",
       "      <td>3.751953<\/td>\n",
       "      <td>3.801202<\/td>\n",
       "      <td>3.833254<\/td>\n",
       "      <td>...<\/td>\n",
       "      <td>0.051918<\/td>\n",
       "      <td>2.818120<\/td>\n",
       "      <td>3.757051<\/td>\n",
       "      <td>0.106215<\/td>\n",
       "      <td>3.100856<\/td>\n",
       "      <td>3.844779<\/td>\n",
       "      <td>0.076611<\/td>\n",
       "      <td>2.476354<\/td>\n",
       "      <td>3.775527<\/td>\n",
       "      <td>0.091985<\/td>\n",
       "    <\/tr>\n",
       "  <\/tbody>\n",
       "<\/table>\n",
       "<p>29171 rows × 27 columns<\/p>\n",
       "<\/div>"
      ]
     },
     "metadata":{
      
     },
     "output_type":"display_data"
    }
   ],
   "metadata":{
    "datalore":{
     "type":"CODE",
     "hide_input_from_viewers":false,
     "hide_output_from_viewers":false
    }
   }
  },
  {
   "cell_type":"markdown",
   "source":[
    "## Моделирование"
   ],
   "attachments":{
    
   },
   "metadata":{
    "datalore":{
     "type":"MD",
     "hide_input_from_viewers":false,
     "hide_output_from_viewers":false
    }
   }
  },
  {
   "cell_type":"markdown",
   "source":[
    "Для прогноза будем использовать модель CatBoostRegressor.\n",
    "\n",
    "Сначала обучимся и провалидируемся на отложенной выборке, а затем используем кросс-валидацию."
   ],
   "attachments":{
    
   },
   "metadata":{
    "datalore":{
     "type":"MD",
     "hide_input_from_viewers":false,
     "hide_output_from_viewers":false
    }
   }
  },
  {
   "cell_type":"markdown",
   "source":[
    "### Отложенная выборка"
   ],
   "attachments":{
    
   },
   "metadata":{
    "datalore":{
     "type":"MD",
     "hide_input_from_viewers":false,
     "hide_output_from_viewers":false
    }
   }
  },
  {
   "cell_type":"markdown",
   "source":[
    "Тренировочная выборка будет с `2019-01-01` по `2019-10-01`;\n",
    "\n",
    "Валидационная выборка будет с `2019-11-01` по `2020-02-01`;\n",
    "\n",
    "Тестовая выборка будет с `2020-03-01` по `2020-07-01`."
   ],
   "attachments":{
    
   },
   "metadata":{
    "datalore":{
     "type":"MD",
     "hide_input_from_viewers":false,
     "hide_output_from_viewers":false
    }
   }
  },
  {
   "cell_type":"code",
   "source":[
    "# периоды тренировочной, валидационной и тестовой выборок\n",
    "tr_range = pd.date_range(\"2019-01-01\", \"2019-10-01\", freq=\"MS\")\n",
    "val_range = pd.date_range(\"2019-11-01\", \"2020-02-01\", freq=\"MS\")\n",
    "ts_range = pd.date_range(\"2020-03-01\", \"2020-07-01\", freq=\"MS\")"
   ],
   "execution_count":18,
   "outputs":[
    
   ],
   "metadata":{
    "datalore":{
     "type":"CODE",
     "hide_input_from_viewers":false,
     "hide_output_from_viewers":false
    }
   }
  },
  {
   "cell_type":"code",
   "source":[
    "# разбиение на тренировочную, валидационную  и тренировочную выборки\n",
    "train_data = fe_data[fe_data['month'].isin(tr_range)]\n",
    "val_data = fe_data[fe_data['month'].isin(val_range)]\n",
    "test_data = fe_data[fe_data['month'].isin(ts_range)]"
   ],
   "execution_count":19,
   "outputs":[
    
   ],
   "metadata":{
    "datalore":{
     "type":"CODE",
     "hide_input_from_viewers":false,
     "hide_output_from_viewers":false
    }
   }
  },
  {
   "cell_type":"code",
   "source":[
    "# категориальные колонки\n",
    "CAT_COLS = [\"material_code\", \"company_code\", \"country\", \"region\", \"manager_code\", \"month\"]\n",
    "# обучающие признаки\n",
    "FTS_COLS = fe_data.drop(['volume'], axis=1).columns\n",
    "# целевая переманная\n",
    "TARGET = \"volume\"\n",
    "# type(month) -> str\n",
    "train_data['month'] = train_data['month'].astype(str)\n",
    "val_data['month'] = val_data['month'].astype(str)\n",
    "test_data['month'] = test_data['month'].astype(str)\n",
    "\n",
    "assert train_data['month'].dtypes == 'object', \"['month'].dtypes должен быть str\"\n",
    "assert val_data['month'].dtypes == 'object', \"['month'].dtypes должен быть str\"\n",
    "assert test_data['month'].dtypes == 'object', \"['month'].dtypes должен быть str\""
   ],
   "execution_count":20,
   "outputs":[
    {
     "name":"stderr",
     "text":[
      "<ipython-input-20-3e7a0ea2e09c>:8: SettingWithCopyWarning: \n",
      "A value is trying to be set on a copy of a slice from a DataFrame.\n",
      "Try using .loc[row_indexer,col_indexer] = value instead\n",
      "\n",
      "See the caveats in the documentation: https:\/\/pandas.pydata.org\/pandas-docs\/stable\/user_guide\/indexing.html#returning-a-view-versus-a-copy\n",
      "  train_data['month'] = train_data['month'].astype(str)\n",
      "<ipython-input-20-3e7a0ea2e09c>:9: SettingWithCopyWarning: \n",
      "A value is trying to be set on a copy of a slice from a DataFrame.\n",
      "Try using .loc[row_indexer,col_indexer] = value instead\n",
      "\n",
      "See the caveats in the documentation: https:\/\/pandas.pydata.org\/pandas-docs\/stable\/user_guide\/indexing.html#returning-a-view-versus-a-copy\n",
      "  val_data['month'] = val_data['month'].astype(str)\n",
      "<ipython-input-20-3e7a0ea2e09c>:10: SettingWithCopyWarning: \n",
      "A value is trying to be set on a copy of a slice from a DataFrame.\n",
      "Try using .loc[row_indexer,col_indexer] = value instead\n",
      "\n",
      "See the caveats in the documentation: https:\/\/pandas.pydata.org\/pandas-docs\/stable\/user_guide\/indexing.html#returning-a-view-versus-a-copy\n",
      "  test_data['month'] = test_data['month'].astype(str)\n"
     ],
     "output_type":"stream"
    }
   ],
   "metadata":{
    "datalore":{
     "type":"CODE",
     "hide_input_from_viewers":false,
     "hide_output_from_viewers":false
    }
   }
  },
  {
   "cell_type":"code",
   "source":[
    "X_train = train_data[FTS_COLS]\n",
    "X_val = val_data[FTS_COLS]\n",
    "X_test = test_data[FTS_COLS]\n",
    "\n",
    "y_train = train_data[TARGET]\n",
    "y_val = val_data[TARGET]\n",
    "y_test = test_data[TARGET]"
   ],
   "execution_count":21,
   "outputs":[
    
   ],
   "metadata":{
    "datalore":{
     "type":"CODE",
     "hide_input_from_viewers":false,
     "hide_output_from_viewers":false
    }
   }
  },
  {
   "cell_type":"code",
   "source":[
    "# инициализация модели\n",
    "model = CatBoostRegressor(iterations=10000,\n",
    "                          early_stopping_rounds=100,\n",
    "                          depth=6,\n",
    "                          cat_features=CAT_COLS,\n",
    "                          random_state=82736,\n",
    "                          verbose=50\n",
    "                          )\n",
    "# обучение модели\n",
    "model.fit(X_train, y_train, eval_set=(X_val, y_val))"
   ],
   "execution_count":22,
   "outputs":[
    {
     "name":"stdout",
     "text":[
      "Learning rate set to 0.017773\n",
      "0:\tlearn: 2.1948901\ttest: 2.2002362\tbest: 2.2002362 (0)\ttotal: 78.3ms\tremaining: 13m 2s\n",
      "50:\tlearn: 1.6913568\ttest: 1.8144255\tbest: 1.8144255 (50)\ttotal: 775ms\tremaining: 2m 31s\n",
      "100:\tlearn: 1.5606602\ttest: 1.7327043\tbest: 1.7327043 (100)\ttotal: 1.44s\tremaining: 2m 21s\n",
      "150:\tlearn: 1.5156261\ttest: 1.7185190\tbest: 1.7184184 (148)\ttotal: 2.07s\tremaining: 2m 14s\n",
      "200:\tlearn: 1.4896670\ttest: 1.7182970\tbest: 1.7181180 (180)\ttotal: 2.67s\tremaining: 2m 10s\n",
      "250:\tlearn: 1.4750795\ttest: 1.7194300\tbest: 1.7170577 (210)\ttotal: 3.28s\tremaining: 2m 7s\n",
      "300:\tlearn: 1.4637234\ttest: 1.7206713\tbest: 1.7170577 (210)\ttotal: 3.86s\tremaining: 2m 4s\n",
      "Stopped by overfitting detector  (100 iterations wait)\n",
      "\n",
      "bestTest = 1.717057666\n",
      "bestIteration = 210\n",
      "\n",
      "Shrink model to first 211 iterations.\n"
     ],
     "output_type":"stream"
    },
    {
     "data":{
      "text\/plain":[
       "<catboost.core.CatBoostRegressor at 0x7fab43c81a90>"
      ]
     },
     "metadata":{
      
     },
     "output_type":"display_data"
    }
   ],
   "metadata":{
    "datalore":{
     "type":"CODE",
     "hide_input_from_viewers":false,
     "hide_output_from_viewers":false
    }
   }
  },
  {
   "cell_type":"code",
   "source":[
    "# прогноз\n",
    "train_preds = np.expm1(model.predict(X_train))\n",
    "val_preds = np.expm1(model.predict(X_val))\n",
    "test_preds = np.expm1(model.predict(X_test))\n",
    "\n",
    "# оценка модели\n",
    "print(\"RMSLE на тренировочной выборке:\",\n",
    "      f'{mean_squared_log_error(np.expm1(y_train), train_preds, squared=False):.4f}')\n",
    "print(\"RMSLE на валидационной выборке:\",\n",
    "      f'{mean_squared_log_error(np.expm1(y_val), val_preds, squared=False):.4f}')\n",
    "print(\"RMSLE на тестовой выборке:\",\n",
    "      f'{mean_squared_log_error(np.expm1(y_test), test_preds, squared=False):.4f}')"
   ],
   "execution_count":23,
   "outputs":[
    {
     "name":"stdout",
     "text":[
      "RMSLE на тренировочной выборке: 1.4734\n",
      "RMSLE на валидационной выборке: 1.7171\n",
      "RMSLE на тестовой выборке: 1.7794\n"
     ],
     "output_type":"stream"
    }
   ],
   "metadata":{
    "datalore":{
     "type":"CODE",
     "hide_input_from_viewers":false,
     "hide_output_from_viewers":false
    }
   }
  },
  {
   "cell_type":"markdown",
   "source":[
    "**Важность признаков:**"
   ],
   "attachments":{
    
   },
   "metadata":{
    "datalore":{
     "type":"MD",
     "hide_input_from_viewers":false,
     "hide_output_from_viewers":false
    }
   }
  },
  {
   "cell_type":"code",
   "source":[
    "feature_importance = pd.Series(model.feature_importances_, index=FTS_COLS).sort_values(ascending=False)"
   ],
   "execution_count":27,
   "outputs":[
    
   ],
   "metadata":{
    "datalore":{
     "type":"CODE",
     "hide_input_from_viewers":false,
     "hide_output_from_viewers":false
    }
   }
  },
  {
   "cell_type":"code",
   "source":[
    "plt.figure(figsize=(8, 6))\n",
    "sns.barplot(\n",
    "    x=feature_importance.values,\n",
    "    y=feature_importance.index,\n",
    "    palette='gray'\n",
    "    )\n",
    "plt.title('CatBoostRegressor Feature Importance')\n",
    "plt.xlabel('Importance of Features')\n",
    "plt.ylabel('Features')\n",
    "plt.show()"
   ],
   "execution_count":71,
   "outputs":[
    {
     "data":{
      "image\/png":"[encoded data removed]"
     },
     "metadata":{
      "image\/png":{
       
      }
     },
     "output_type":"display_data"
    }
   ],
   "metadata":{
    "datalore":{
     "type":"CODE",
     "hide_input_from_viewers":false,
     "hide_output_from_viewers":false
    }
   }
  },
  {
   "cell_type":"markdown",
   "source":[
    "Видим, что скользящие среднее\/максимум\/мининум за 3 месяца - самые важные признаки."
   ],
   "attachments":{
    
   },
   "metadata":{
    "datalore":{
     "type":"MD",
     "hide_input_from_viewers":false,
     "hide_output_from_viewers":false
    }
   }
  },
  {
   "cell_type":"markdown",
   "source":[
    "### Cross-Validation"
   ],
   "attachments":{
    
   },
   "metadata":{
    "datalore":{
     "type":"MD",
     "hide_input_from_viewers":false,
     "hide_output_from_viewers":false
    }
   }
  },
  {
   "cell_type":"markdown",
   "source":[
    "Для реализации кросс-валидиции, используем алгоритм TimeSeriesSplit, который разбивает данные таким образом, что тестовая выборка всегда из будущего периода времени, что позволяет избежать ликов и переобучения."
   ],
   "attachments":{
    
   },
   "metadata":{
    "datalore":{
     "type":"MD",
     "hide_input_from_viewers":false,
     "hide_output_from_viewers":false
    }
   }
  },
  {
   "cell_type":"code",
   "source":[
    "from sklearn.model_selection import TimeSeriesSplit"
   ],
   "execution_count":44,
   "outputs":[
    
   ],
   "metadata":{
    "datalore":{
     "type":"CODE",
     "hide_input_from_viewers":false,
     "hide_output_from_viewers":false
    }
   }
  },
  {
   "cell_type":"code",
   "source":[
    "# инициализация базовой модели\n",
    "base_model = CatBoostRegressor(iterations=10000,\n",
    "                              early_stopping_rounds=100,\n",
    "                              depth=6,\n",
    "                              cat_features=CAT_COLS,\n",
    "                              random_state=82736,\n",
    "                              verbose=100)"
   ],
   "execution_count":45,
   "outputs":[
    
   ],
   "metadata":{
    "datalore":{
     "type":"CODE",
     "hide_input_from_viewers":false,
     "hide_output_from_viewers":false
    }
   }
  },
  {
   "cell_type":"code",
   "source":[
    "# количество сплитов\n",
    "splits = 5\n",
    "# randon state\n",
    "RS = 82736\n",
    "# инициализация cv-модели\n",
    "ts_cv = TimeSeriesSplit(n_splits=splits, test_size=941*2)\n",
    "# список для хранения ошибок\n",
    "ts_cv_losses = []\n",
    "# month.dtypes -> str\n",
    "fe_data['month'] = fe_data['month'].astype(str)\n",
    "\n",
    "for fold, (train_idx, test_idx) in enumerate(ts_cv.split(fe_data)):\n",
    "    print(f'    Фолд {fold}\\n')\n",
    "    # разбиваем выборку на трейн\/тест\n",
    "    X_train = fe_data[FTS_COLS].iloc[train_idx]\n",
    "    X_test = fe_data[FTS_COLS].iloc[test_idx]\n",
    "    y_train = fe_data[TARGET].iloc[train_idx]\n",
    "    y_test = fe_data[TARGET].iloc[test_idx]\n",
    "    # обучаемая модель\n",
    "    model = CatBoostRegressor(iterations=10000,\n",
    "                              early_stopping_rounds=100,\n",
    "                              depth=6,\n",
    "                              cat_features=CAT_COLS,\n",
    "                              random_state=RS * fold,\n",
    "                              verbose=100)\n",
    "    # обучение модели\n",
    "    model.fit(X_train, y_train, eval_set=(X_test, y_test))\n",
    "    # прогноз\n",
    "    ts_pred = np.expm1(model.predict(X_test))\n",
    "    # ошибка\n",
    "    test_loss = np.sqrt(mean_squared_log_error(np.expm1(y_test), ts_pred))\n",
    "    \n",
    "    ts_cv_losses.append(test_loss)\n",
    "\n",
    "    print(f'\\nRMSLE:{test_loss: .4f}\\n')\n",
    "    \n",
    "    # сохраняем модель\n",
    "    model.save_model(f\"cv_model_{fold}.cbm\")"
   ],
   "execution_count":68,
   "outputs":[
    {
     "name":"stdout",
     "text":[
      "    Фолд 0\n",
      "\n",
      "Learning rate set to 0.019968\n",
      "0:\tlearn: 2.2457142\ttest: 1.8834126\tbest: 1.8834126 (0)\ttotal: 21ms\tremaining: 3m 30s\n",
      "100:\tlearn: 1.6682384\ttest: 1.3790542\tbest: 1.3790542 (100)\ttotal: 2.07s\tremaining: 3m 23s\n",
      "200:\tlearn: 1.6057944\ttest: 1.3492153\tbest: 1.3492153 (200)\ttotal: 4.09s\tremaining: 3m 19s\n",
      "300:\tlearn: 1.5780156\ttest: 1.3377721\tbest: 1.3376707 (299)\ttotal: 6.09s\tremaining: 3m 16s\n",
      "400:\tlearn: 1.5571415\ttest: 1.3324943\tbest: 1.3320149 (385)\ttotal: 8.1s\tremaining: 3m 13s\n",
      "Stopped by overfitting detector  (100 iterations wait)\n",
      "\n",
      "bestTest = 1.332014941\n",
      "bestIteration = 385\n",
      "\n",
      "Shrink model to first 386 iterations.\n",
      "\n",
      "RMSLE: 1.3320\n",
      "\n",
      "    Фолд 1\n",
      "\n",
      "Learning rate set to 0.020255\n",
      "0:\tlearn: 2.2161089\ttest: 2.2762407\tbest: 2.2762407 (0)\ttotal: 22.4ms\tremaining: 3m 44s\n",
      "100:\tlearn: 1.6420017\ttest: 1.6509739\tbest: 1.6509739 (100)\ttotal: 2.24s\tremaining: 3m 39s\n",
      "200:\tlearn: 1.5809549\ttest: 1.6184520\tbest: 1.6183913 (199)\ttotal: 4.46s\tremaining: 3m 37s\n",
      "300:\tlearn: 1.5548037\ttest: 1.6188897\tbest: 1.6161762 (254)\ttotal: 6.63s\tremaining: 3m 33s\n",
      "Stopped by overfitting detector  (100 iterations wait)\n",
      "\n",
      "bestTest = 1.616176171\n",
      "bestIteration = 254\n",
      "\n",
      "Shrink model to first 255 iterations.\n",
      "\n",
      "RMSLE: 1.6162\n",
      "\n",
      "    Фолд 2\n",
      "\n",
      "Learning rate set to 0.020522\n",
      "0:\tlearn: 2.2206112\ttest: 2.3406871\tbest: 2.3406871 (0)\ttotal: 24.7ms\tremaining: 4m 6s\n",
      "100:\tlearn: 1.6333450\ttest: 1.7498864\tbest: 1.7498864 (100)\ttotal: 2.39s\tremaining: 3m 54s\n",
      "200:\tlearn: 1.5758470\ttest: 1.7199472\tbest: 1.7192217 (195)\ttotal: 4.7s\tremaining: 3m 49s\n",
      "300:\tlearn: 1.5484164\ttest: 1.7138022\tbest: 1.7137816 (299)\ttotal: 6.95s\tremaining: 3m 43s\n",
      "400:\tlearn: 1.5286584\ttest: 1.7159476\tbest: 1.7118154 (385)\ttotal: 9.29s\tremaining: 3m 42s\n",
      "Stopped by overfitting detector  (100 iterations wait)\n",
      "\n",
      "bestTest = 1.711815393\n",
      "bestIteration = 385\n",
      "\n",
      "Shrink model to first 386 iterations.\n",
      "\n",
      "RMSLE: 1.7118\n",
      "\n",
      "    Фолд 3\n",
      "\n",
      "Learning rate set to 0.020772\n",
      "0:\tlearn: 2.2300005\ttest: 2.5266922\tbest: 2.5266922 (0)\ttotal: 28.1ms\tremaining: 4m 40s\n",
      "100:\tlearn: 1.6373638\ttest: 1.9037738\tbest: 1.9037738 (100)\ttotal: 2.54s\tremaining: 4m 9s\n",
      "200:\tlearn: 1.5774600\ttest: 1.8523877\tbest: 1.8523877 (200)\ttotal: 5.08s\tremaining: 4m 7s\n",
      "300:\tlearn: 1.5506788\ttest: 1.8373363\tbest: 1.8373118 (298)\ttotal: 7.54s\tremaining: 4m 3s\n",
      "400:\tlearn: 1.5310580\ttest: 1.8307772\tbest: 1.8306643 (387)\ttotal: 10.1s\tremaining: 4m\n",
      "500:\tlearn: 1.5165134\ttest: 1.8287724\tbest: 1.8283593 (463)\ttotal: 12.5s\tremaining: 3m 56s\n",
      "600:\tlearn: 1.5025651\ttest: 1.8259427\tbest: 1.8251818 (562)\ttotal: 14.9s\tremaining: 3m 52s\n",
      "Stopped by overfitting detector  (100 iterations wait)\n",
      "\n",
      "bestTest = 1.825181773\n",
      "bestIteration = 562\n",
      "\n",
      "Shrink model to first 563 iterations.\n",
      "\n",
      "RMSLE: 1.8252\n",
      "\n",
      "    Фолд 4\n",
      "\n",
      "Learning rate set to 0.021006\n",
      "0:\tlearn: 2.2508580\ttest: 2.2530484\tbest: 2.2530484 (0)\ttotal: 26.5ms\tremaining: 4m 25s\n",
      "100:\tlearn: 1.6500129\ttest: 1.6440479\tbest: 1.6440479 (100)\ttotal: 2.64s\tremaining: 4m 19s\n",
      "200:\tlearn: 1.5910951\ttest: 1.6107083\tbest: 1.6095564 (199)\ttotal: 5.3s\tremaining: 4m 18s\n",
      "300:\tlearn: 1.5643977\ttest: 1.6065630\tbest: 1.6064542 (289)\ttotal: 7.95s\tremaining: 4m 16s\n",
      "400:\tlearn: 1.5442207\ttest: 1.6165928\tbest: 1.6053995 (337)\ttotal: 10.6s\tremaining: 4m 13s\n",
      "Stopped by overfitting detector  (100 iterations wait)\n",
      "\n",
      "bestTest = 1.605399458\n",
      "bestIteration = 337\n",
      "\n",
      "Shrink model to first 338 iterations.\n",
      "\n",
      "RMSLE: 1.6054\n",
      "\n"
     ],
     "output_type":"stream"
    }
   ],
   "metadata":{
    "datalore":{
     "type":"CODE",
     "hide_input_from_viewers":false,
     "hide_output_from_viewers":false
    }
   }
  },
  {
   "cell_type":"code",
   "source":[
    "print(f'Средний RMSLE на тестовой выбокре:{np.mean(ts_cv_losses): .4f}')"
   ],
   "execution_count":70,
   "outputs":[
    {
     "name":"stdout",
     "text":[
      "Средний RMSLE на тестовой выбокре: 1.6181\n"
     ],
     "output_type":"stream"
    }
   ],
   "metadata":{
    "datalore":{
     "type":"CODE",
     "hide_input_from_viewers":false,
     "hide_output_from_viewers":false
    }
   }
  },
  {
   "cell_type":"markdown",
   "source":[
    "С использованием кросс-валидации ошибка **упала на 0.16.**"
   ],
   "attachments":{
    
   },
   "metadata":{
    "datalore":{
     "type":"MD",
     "hide_input_from_viewers":false,
     "hide_output_from_viewers":false
    }
   }
  },
  {
   "cell_type":"markdown",
   "source":[
    "## Формирование загрузки"
   ],
   "attachments":{
    
   },
   "metadata":{
    "datalore":{
     "type":"MD",
     "hide_input_from_viewers":false,
     "hide_output_from_viewers":false
    }
   }
  },
  {
   "cell_type":"code",
   "source":[
    "%%writefile predict.py\n",
    "\n",
    "import pandas as pd\n",
    "import numpy as np\n",
    "from catboost import CatBoostRegressor\n",
    "\n",
    "AGG_COLS = [\"material_code\", \"company_code\", \"country\", \"region\", \"manager_code\"]\n",
    "\n",
    "FOLDS = 5\n",
    "\n",
    "class FeatureEngineering:\n",
    "  \"\"\"\n",
    "  Создает новые признаки:\n",
    "  1. Lag признаки;\n",
    "  2. Скользящие средние;\n",
    "  \"\"\"\n",
    "\n",
    "  def __init__(self, df):\n",
    "    self.df = df\n",
    "\n",
    "  # генерация случайного шума случайный шум\n",
    "  def random_noise(self):\n",
    "      return np.abs(np.random.normal(scale=0.1, size=(len(self.df),))) \n",
    "\n",
    "  # lag признаки\n",
    "  def lag_features(self):\n",
    "    lags = [3, 6, 9, 12, 18] \n",
    "    for lag in lags:\n",
    "      self.df['sales_lag_' + str(lag)] = self.df.groupby(AGG_COLS)['volume'].transform(\n",
    "          lambda x: x.shift(lag)) + self.random_noise() # Adding random noise to each value.\n",
    "      \n",
    "    return self.df\n",
    "\n",
    "  # скользящие аггрегированные признаки\n",
    "  def roll_agg_features(self):\n",
    "    windows = [3, 6, 9, 12, 18] \n",
    "    for window in windows:\n",
    "        self.df['sales_roll_mean_' + str(window)] = self.df.groupby(AGG_COLS)['volume']. \\\n",
    "                                                          transform(\n",
    "            lambda x: x.shift(1).rolling(window=window,\n",
    "                                         min_periods=3,\n",
    "                                         win_type=\"triang\").mean()) + self.random_noise()\n",
    "        \n",
    "        self.df['sales_roll_max_' + str(window)] = self.df.groupby(AGG_COLS)['volume']. \\\n",
    "                                                          transform(\n",
    "            lambda x: x.shift(1).rolling(window=window,\n",
    "                                         min_periods=3).max()) + self.random_noise()\n",
    "        \n",
    "        self.df['sales_roll_min_' + str(window)] = self.df.groupby(AGG_COLS)['volume']. \\\n",
    "                                                          transform(\n",
    "            lambda x: x.shift(1).rolling(window=window,\n",
    "                                         min_periods=3).min()) + self.random_noise()\n",
    "\n",
    "    return self.df\n",
    "\n",
    "\n",
    "  # применение обоих методов\n",
    "  def transform(self):\n",
    "    self.df = self.lag_features()\n",
    "    self.df = self.roll_agg_features()\n",
    "    \n",
    "    return self.df\n",
    "\n",
    "\n",
    "\n",
    "def predict(df: pd.DataFrame, month: pd.Timestamp) -> pd.DataFrame:\n",
    "    \"\"\"\n",
    "    Вычисление предсказаний.\n",
    "\n",
    "    Параметры:\n",
    "        df:\n",
    "          датафрейм, содержащий все сделки с начала тренировочного периода до `month`; типы\n",
    "          колонок совпадают с типами в ноутбуке `[SC2021] Baseline`,\n",
    "        month:\n",
    "          месяц, для которого вычисляются предсказания.\n",
    "\n",
    "    Результат:\n",
    "        Датафрейм предсказаний для каждой группы, содержащий колонки:\n",
    "            - `material_code`, `company_code`, `country`, `region`, `manager_code`,\n",
    "            - `prediction`.\n",
    "        Предсказанные значения находятся в колонке `prediction`.\n",
    "    \"\"\"\n",
    "\n",
    "    group_ts = df.groupby(AGG_COLS + [\"month\"])[\"volume\"].sum().unstack(fill_value=0)\n",
    "    group_ts[month] = 0\n",
    "    new_df = pd.DataFrame(group_ts.stack()).reset_index()\n",
    "    new_df = new_df.rename(columns={0: 'volume'})\n",
    "    new_df['volume'] = np.log1p(new_df['volume'])\n",
    "    fe_data = FeatureEngineering(new_df).transform()\n",
    "    fe_data['month'] = fe_data['month'].astype(str)\n",
    "\n",
    "    predicting_data = fe_data[fe_data['month'] == str(month)[:10]].reset_index()\n",
    "\n",
    "    model = CatBoostRegressor()\n",
    "    predictions = pd.DataFrame()\n",
    "    for i in range(FOLDS):\n",
    "      model_path = f'cv_model_{i}.cbm'\n",
    "      model.load_model(model_path)\n",
    "      prediction = model.predict(predicting_data[model.feature_names_])\n",
    "      predictions[f'prediction_{i}'] = prediction\n",
    "\n",
    "    preds_df = predicting_data[AGG_COLS].copy()\n",
    "    preds_df[\"prediction\"] = np.expm1(np.mean(predictions, axis=1))\n",
    "\n",
    "    return preds_df"
   ],
   "execution_count":71,
   "outputs":[
    {
     "name":"stdout",
     "text":[
      "Overwriting predict.py\n"
     ],
     "output_type":"stream"
    }
   ],
   "metadata":{
    "datalore":{
     "type":"CODE",
     "hide_input_from_viewers":false,
     "hide_output_from_viewers":false
    }
   }
  },
  {
   "cell_type":"markdown",
   "source":[
    "Проверим правильность работы загрузки:"
   ],
   "attachments":{
    
   },
   "metadata":{
    "datalore":{
     "type":"MD",
     "hide_input_from_viewers":false,
     "hide_output_from_viewers":false
    }
   }
  },
  {
   "cell_type":"code",
   "source":[
    "import predict"
   ],
   "execution_count":72,
   "outputs":[
    
   ],
   "metadata":{
    "datalore":{
     "type":"CODE",
     "hide_input_from_viewers":false,
     "hide_output_from_viewers":false
    }
   }
  },
  {
   "cell_type":"code",
   "source":[
    "predict.predict(data, pd.Timestamp(\"2020-08-01\"))"
   ],
   "execution_count":73,
   "outputs":[
    {
     "data":{
      "text\/html":[
       "<div>\n",
       "<style scoped>\n",
       "    .dataframe tbody tr th:only-of-type {\n",
       "        vertical-align: middle;\n",
       "    }\n",
       "\n",
       "    .dataframe tbody tr th {\n",
       "        vertical-align: top;\n",
       "    }\n",
       "\n",
       "    .dataframe thead th {\n",
       "        text-align: right;\n",
       "    }\n",
       "<\/style>\n",
       "<table border=\"1\" class=\"dataframe\">\n",
       "  <thead>\n",
       "    <tr style=\"text-align: right;\">\n",
       "      <th><\/th>\n",
       "      <th>material_code<\/th>\n",
       "      <th>company_code<\/th>\n",
       "      <th>country<\/th>\n",
       "      <th>region<\/th>\n",
       "      <th>manager_code<\/th>\n",
       "      <th>prediction<\/th>\n",
       "    <\/tr>\n",
       "  <\/thead>\n",
       "  <tbody>\n",
       "    <tr>\n",
       "      <th>0<\/th>\n",
       "      <td>124<\/td>\n",
       "      <td>7278<\/td>\n",
       "      <td>Россия<\/td>\n",
       "      <td>Респ. Татарстан<\/td>\n",
       "      <td>17460<\/td>\n",
       "      <td>0.670721<\/td>\n",
       "    <\/tr>\n",
       "    <tr>\n",
       "      <th>1<\/th>\n",
       "      <td>133<\/td>\n",
       "      <td>0<\/td>\n",
       "      <td>Белоруссия<\/td>\n",
       "      <td>Минская обл.<\/td>\n",
       "      <td>10942<\/td>\n",
       "      <td>105.060142<\/td>\n",
       "    <\/tr>\n",
       "    <tr>\n",
       "      <th>2<\/th>\n",
       "      <td>133<\/td>\n",
       "      <td>0<\/td>\n",
       "      <td>Белоруссия<\/td>\n",
       "      <td>Могилевская обл.<\/td>\n",
       "      <td>10942<\/td>\n",
       "      <td>2.690266<\/td>\n",
       "    <\/tr>\n",
       "    <tr>\n",
       "      <th>3<\/th>\n",
       "      <td>133<\/td>\n",
       "      <td>0<\/td>\n",
       "      <td>Белоруссия<\/td>\n",
       "      <td>г. Минск<\/td>\n",
       "      <td>10942<\/td>\n",
       "      <td>2.306920<\/td>\n",
       "    <\/tr>\n",
       "    <tr>\n",
       "      <th>4<\/th>\n",
       "      <td>133<\/td>\n",
       "      <td>0<\/td>\n",
       "      <td>Казахстан<\/td>\n",
       "      <td>г. Нур-Султан<\/td>\n",
       "      <td>13301<\/td>\n",
       "      <td>10.276427<\/td>\n",
       "    <\/tr>\n",
       "    <tr>\n",
       "      <th>...<\/th>\n",
       "      <td>...<\/td>\n",
       "      <td>...<\/td>\n",
       "      <td>...<\/td>\n",
       "      <td>...<\/td>\n",
       "      <td>...<\/td>\n",
       "      <td>...<\/td>\n",
       "    <\/tr>\n",
       "    <tr>\n",
       "      <th>936<\/th>\n",
       "      <td>986<\/td>\n",
       "      <td>9943<\/td>\n",
       "      <td>Россия<\/td>\n",
       "      <td>Смоленская обл.<\/td>\n",
       "      <td>17460<\/td>\n",
       "      <td>50.227789<\/td>\n",
       "    <\/tr>\n",
       "    <tr>\n",
       "      <th>937<\/th>\n",
       "      <td>998<\/td>\n",
       "      <td>0<\/td>\n",
       "      <td>Россия<\/td>\n",
       "      <td>Ленинградская обл.<\/td>\n",
       "      <td>18079<\/td>\n",
       "      <td>3.807949<\/td>\n",
       "    <\/tr>\n",
       "    <tr>\n",
       "      <th>938<\/th>\n",
       "      <td>998<\/td>\n",
       "      <td>3380<\/td>\n",
       "      <td>Россия<\/td>\n",
       "      <td>Ленинградская обл.<\/td>\n",
       "      <td>14956<\/td>\n",
       "      <td>24.371873<\/td>\n",
       "    <\/tr>\n",
       "    <tr>\n",
       "      <th>939<\/th>\n",
       "      <td>998<\/td>\n",
       "      <td>5410<\/td>\n",
       "      <td>Россия<\/td>\n",
       "      <td>г. Санкт-Петербург<\/td>\n",
       "      <td>14956<\/td>\n",
       "      <td>20.243439<\/td>\n",
       "    <\/tr>\n",
       "    <tr>\n",
       "      <th>940<\/th>\n",
       "      <td>998<\/td>\n",
       "      <td>6346<\/td>\n",
       "      <td>Россия<\/td>\n",
       "      <td>Респ. Башкортостан<\/td>\n",
       "      <td>10737<\/td>\n",
       "      <td>15.139513<\/td>\n",
       "    <\/tr>\n",
       "  <\/tbody>\n",
       "<\/table>\n",
       "<p>941 rows × 6 columns<\/p>\n",
       "<\/div>"
      ]
     },
     "metadata":{
      
     },
     "output_type":"display_data"
    }
   ],
   "metadata":{
    "datalore":{
     "type":"CODE",
     "hide_input_from_viewers":false,
     "hide_output_from_viewers":false
    }
   }
  },
  {
   "cell_type":"markdown",
   "source":[
    "Загрузка отработала корректно."
   ],
   "attachments":{
    
   },
   "metadata":{
    "datalore":{
     "type":"MD",
     "hide_input_from_viewers":false,
     "hide_output_from_viewers":false
    }
   }
  },
  {
   "cell_type":"markdown",
   "source":[
    "Сформируем zip-файл"
   ],
   "attachments":{
    
   },
   "metadata":{
    "datalore":{
     "type":"MD",
     "hide_input_from_viewers":false,
     "hide_output_from_viewers":false
    }
   }
  },
  {
   "cell_type":"code",
   "source":[
    "from zipfile import ZipFile"
   ],
   "execution_count":74,
   "outputs":[
    
   ],
   "metadata":{
    "datalore":{
     "type":"CODE",
     "hide_input_from_viewers":false,
     "hide_output_from_viewers":false
    }
   }
  },
  {
   "cell_type":"code",
   "source":[
    "zipObj = ZipFile('sub_1.zip', 'w')\n",
    "for i in range(5):\n",
    "    zipObj.write(f\"cv_model_{i}.cbm\")\n",
    "zipObj.write('predict.py')\n",
    "zipObj.write('requirements.txt')\n",
    "zipObj.close()"
   ],
   "execution_count":75,
   "outputs":[
    
   ],
   "metadata":{
    "datalore":{
     "type":"CODE",
     "hide_input_from_viewers":false,
     "hide_output_from_viewers":false
    }
   }
  }
 ],
 "metadata":{
  "datalore":{
   "version":1,
   "computation_mode":"JUPYTER",
   "package_manager":"pip",
   "base_environment":"default",
   "packages":[
    {
     "name":"Sibur_Challenge_2021",
     "version":"main",
     "url":"https:\/\/github.com\/simonyelisey\/Sibur_Challenge_2021@main",
     "source":"GIT"
    }
   ]
  }
 },
 "nbformat":4,
 "nbformat_minor":4
}